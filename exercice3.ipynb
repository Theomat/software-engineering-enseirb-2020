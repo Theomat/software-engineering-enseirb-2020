{
 "cells": [
  {
   "cell_type": "code",
   "execution_count": 1,
   "metadata": {},
   "outputs": [],
   "source": [
    "from src.dataset import get_raw_training_data, get_raw_testing_data, get_labels\n",
    "from src.spacy_helper import format_data_as_spacy, get_spacy_model, train, predict\n",
    "\n",
    "from src.metrics import score\n",
    "from src.visualization import plot_confusion_matrix\n",
    "\n",
    "import numpy as np\n",
    "import time"
   ]
  },
  {
   "cell_type": "code",
   "execution_count": null,
   "metadata": {},
   "outputs": [
    {
     "name": "stdout",
     "output_type": "stream",
     "text": [
      "Training the model...\n",
      "Iteration 0/10. train_loss: 16.647540825113538 test score:32.78635657227641%\n",
      "Iteration 1/10. train_loss: 1.0961708325776272 test score:57.02361955408364%\n",
      "Iteration 2/10. train_loss: 0.23071542207617313 test score:69.20552676043323%\n",
      "Iteration 3/10. train_loss: 0.07479136149595433 test score:69.62322283852386%\n",
      "Iteration 4/10. train_loss: 0.03675457484132494 test score:71.44087816568046%\n",
      "Iteration 5/10. train_loss: 0.02437766979164735 test score:73.36817028440805%\n",
      "Iteration 6/10. train_loss: 0.019655390253774385 test score:74.26034219550272%\n"
     ]
    }
   ],
   "source": [
    "raw_training_data = get_raw_training_data('./data/training_set.json')\n",
    "raw_testing_data = get_raw_testing_data('./data/testing_set.json')\n",
    "\n",
    "labels = get_labels(raw_training_data)\n",
    "\n",
    "y_true = [r['intent'] for r in raw_testing_data]\n",
    "y_true_t = [r['intent'] for r in raw_training_data]\n",
    "\n",
    "X_train, y_train = format_data_as_spacy(raw_training_data)\n",
    "X_test, y_test = format_data_as_spacy(raw_testing_data)\n",
    "\n",
    "\n",
    "model = get_spacy_model(labels)\n",
    "\n",
    "model = train(model, X_train, y_train, 10, test=(X_test, y_test))\n",
    "model.to_disk(f\"./model\")"
   ]
  },
  {
   "cell_type": "code",
   "execution_count": null,
   "metadata": {},
   "outputs": [],
   "source": [
    "y_pred = predict(model, X_test)\n",
    "y_pred_t = predict(model, X_train)"
   ]
  },
  {
   "cell_type": "code",
   "execution_count": null,
   "metadata": {},
   "outputs": [],
   "source": [
    "training_results = score(y_true_t, y_pred_t)\n",
    "testing_results = score(y_true, y_pred)"
   ]
  },
  {
   "cell_type": "code",
   "execution_count": null,
   "metadata": {},
   "outputs": [],
   "source": [
    "print(testing_results['report'])"
   ]
  },
  {
   "cell_type": "code",
   "execution_count": null,
   "metadata": {},
   "outputs": [],
   "source": [
    "cm_testing_metrics = np.array(testing_results['cm'], dtype='float64')\n",
    "for i in range(len(cm_testing_metrics)):\n",
    "    cm_testing_metrics[i] = cm_testing_metrics[i] / np.sum(cm_testing_metrics[i])\n",
    "plot_confusion_matrix(cm_testing_metrics, labels, title=\"Test dataset Confusion Matrix (Normalized for recall)\", fmt=\".2f\")"
   ]
  },
  {
   "cell_type": "code",
   "execution_count": null,
   "metadata": {},
   "outputs": [],
   "source": [
    "print(training_results['report'])"
   ]
  },
  {
   "cell_type": "code",
   "execution_count": null,
   "metadata": {},
   "outputs": [],
   "source": [
    "cm_testing_metrics = np.array(training_results['cm'], dtype='float64')\n",
    "for i in range(len(cm_testing_metrics)):\n",
    "    cm_testing_metrics[i] = cm_testing_metrics[i] / np.sum(cm_testing_metrics[i])\n",
    "plot_confusion_matrix(cm_testing_metrics, labels, title=\"Training dataset Confusion Matrix (Normalized for recall)\", fmt=\".2f\")"
   ]
  },
  {
   "cell_type": "code",
   "execution_count": null,
   "metadata": {},
   "outputs": [],
   "source": []
  }
 ],
 "metadata": {
  "kernelspec": {
   "display_name": "Python 3",
   "language": "python",
   "name": "python3"
  },
  "language_info": {
   "codemirror_mode": {
    "name": "ipython",
    "version": 3
   },
   "file_extension": ".py",
   "mimetype": "text/x-python",
   "name": "python",
   "nbconvert_exporter": "python",
   "pygments_lexer": "ipython3",
   "version": "3.8.5"
  }
 },
 "nbformat": 4,
 "nbformat_minor": 4
}
